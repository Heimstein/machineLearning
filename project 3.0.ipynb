{
 "cells": [
  {
   "cell_type": "code",
   "execution_count": 1,
   "metadata": {
    "collapsed": true
   },
   "outputs": [],
   "source": [
    "#import data\n",
    "import csv\n",
    "import numpy as np\n",
    "with open('county_facts.csv', 'r') as f:\n",
    "    reader = csv.reader(f)\n",
    "    info = list(reader)\n",
    "\n",
    "with open('county_results.csv', 'r') as f:\n",
    "    reader = csv.reader(f)\n",
    "    results = list(reader)"
   ]
  },
  {
   "cell_type": "markdown",
   "metadata": {},
   "source": [
    "important columns:\n",
    "0 - fips\n",
    "1 - name of county\n",
    "2 - state Abreveation\n",
    "3 - 2014 population\n",
    "9 - population w/ age >65\n",
    "10 - female population\n",
    "11 - white pop\n",
    "12 - black pop\n",
    "13 - indian pop\n",
    "14 - asian pop\n",
    "15 - pacific islander\n",
    "17 - hispanic pop\n",
    "22 - pop w/ high school grad or above\n",
    "24 - vets\n",
    "31 - persons per household\n",
    "33 - median household income\n",
    "53 - population per square mile"
   ]
  },
  {
   "cell_type": "code",
   "execution_count": 2,
   "metadata": {
    "collapsed": true
   },
   "outputs": [],
   "source": [
    "#get only county data\n",
    "countyData=[]\n",
    "countyResults=[]\n",
    "for x in range(0,len(info)):\n",
    "    if \"County\" in info[x][1]:\n",
    "        countyData.append(info[x])\n",
    "for x in range(0,len(results)):\n",
    "    if \"County\" in results[x][8]:\n",
    "        countyResults.append(results[x])"
   ]
  },
  {
   "cell_type": "code",
   "execution_count": 3,
   "metadata": {
    "collapsed": true
   },
   "outputs": [],
   "source": [
    "#intialize classification\n",
    "classification =[]\n",
    "for x in range(0,len(countyData)):\n",
    "    classification.append(-1)"
   ]
  },
  {
   "cell_type": "markdown",
   "metadata": {},
   "source": [
    "REPUBLICATION = 1 DEMOCRAT = 0"
   ]
  },
  {
   "cell_type": "code",
   "execution_count": 4,
   "metadata": {},
   "outputs": [
    {
     "name": "stdout",
     "output_type": "stream",
     "text": [
      "513 2492\n"
     ]
    }
   ],
   "source": [
    "#get Classifications from results.csv\n",
    "for x in range(0,len(countyData)):\n",
    "    for y in range(0,len(countyResults)):\n",
    "        if (countyResults[y][8]==countyData[x][1]):\n",
    "            if (countyResults[y][10]=='R'):\n",
    "                classification[x]=1\n",
    "            else:\n",
    "                classification[x]=0\n",
    "            break\n",
    "p1=0\n",
    "p0=0\n",
    "for x in range(0,len(classification)):\n",
    "    if (classification[x]==1):\n",
    "        p1+=1\n",
    "    if (classification[x]==0):\n",
    "        p0+=1\n",
    "print(p0,p1)"
   ]
  },
  {
   "cell_type": "code",
   "execution_count": 5,
   "metadata": {
    "collapsed": true
   },
   "outputs": [],
   "source": [
    "attributes=[]\n",
    "chosenAts=[3,18,28,11,27,23]"
   ]
  },
  {
   "cell_type": "code",
   "execution_count": 6,
   "metadata": {
    "collapsed": true
   },
   "outputs": [],
   "source": [
    "#get list of attributes\n",
    "for x in range(0,len(countyData)):\n",
    "    if (not classification[x]==-1):\n",
    "        tempList=[]\n",
    "        for num in chosenAts:\n",
    "            tempList.append(countyData[x][num])\n",
    "        attributes.append(tempList)"
   ]
  },
  {
   "cell_type": "code",
   "execution_count": 7,
   "metadata": {
    "collapsed": true
   },
   "outputs": [],
   "source": [
    "#get rid of unwanted null classificiations\n",
    "tempClassification=[]\n",
    "for x in range(0,len(classification)):\n",
    "    if (not classification[x]==-1):\n",
    "        tempClassification.append(classification[x])\n",
    "classification=tempClassification"
   ]
  },
  {
   "cell_type": "code",
   "execution_count": 8,
   "metadata": {
    "collapsed": true
   },
   "outputs": [],
   "source": [
    "learnSize=0.8"
   ]
  },
  {
   "cell_type": "code",
   "execution_count": 9,
   "metadata": {
    "collapsed": true
   },
   "outputs": [],
   "source": [
    "for x in range(0,len(attributes)):\n",
    "    for y in range(0,len(attributes[x])):\n",
    "        attributes[x][y]=float(attributes[x][y])"
   ]
  },
  {
   "cell_type": "code",
   "execution_count": 10,
   "metadata": {
    "collapsed": true
   },
   "outputs": [],
   "source": [
    "#seperate data\n",
    "trainAtt=[]\n",
    "trainClass=[]\n",
    "testAtt=[]\n",
    "testClass=[]\n",
    "        \n",
    "randomOrder=[]\n",
    "for x in range(0,len(attributes)):\n",
    "    randomOrder.append(x)\n",
    "np.random.shuffle(randomOrder)\n",
    "        \n",
    "for x in range(0,int(len(attributes)*learnSize)):\n",
    "    trainAtt.append(attributes[randomOrder[x]])\n",
    "    trainClass.append(classification[randomOrder[x]])\n",
    "for x in range(int(len(attributes)*learnSize),len(attributes)):\n",
    "    testAtt.append(attributes[randomOrder[x]])\n",
    "    testClass.append(classification[randomOrder[x]])"
   ]
  },
  {
   "cell_type": "code",
   "execution_count": 11,
   "metadata": {
    "collapsed": true
   },
   "outputs": [],
   "source": [
    "#linear Regression\n",
    "import numpy as np\n",
    "H=np.zeros((len(trainAtt),15))\n",
    "z=np.zeros((len(trainClass),1))\n",
    "for x in range(0,len(trainAtt)):\n",
    "    z[x][0]=trainClass[x]\n",
    "    H[x][0]=1\n",
    "    H[x][1]=trainAtt[x][0]\n",
    "    H[x][2]=trainAtt[x][1]\n",
    "    H[x][3]=trainAtt[x][2]\n",
    "    H[x][4]=trainAtt[x][3]\n",
    "    H[x][5]=trainAtt[x][4]\n",
    "    H[x][6]=trainAtt[x][5]\n",
    "    #H[x][7]=trainAtt[x][6]\n",
    "    #H[x][8]=trainAtt[x][7]\n",
    "    #H[x][9]=trainAtt[x][8]\n",
    "    #H[x][10]=trainAtt[x][9]\n",
    "    #H[x][11]=trainAtt[x][10]\n",
    "    #H[x][12]=trainAtt[x][11]\n",
    "    #H[x][13]=trainAtt[x][12]\n",
    "    #H[x][14]=trainAtt[x][13]\n",
    "x = np.linalg.lstsq(H,z)[0]"
   ]
  },
  {
   "cell_type": "code",
   "execution_count": 12,
   "metadata": {},
   "outputs": [],
   "source": [
    "#test the test set using logistic regression w/ the linear regression\n",
    "prob=[]\n",
    "for num in range(0,len(testAtt)):\n",
    "    prob.append(1/(1+2.71828**(-(x[0][0]+\n",
    "                 x[1][0]*testAtt[num][0]\n",
    "                +x[2][0]*testAtt[num][1]\n",
    "                +x[3][0]*testAtt[num][2]\n",
    "                +x[4][0]*testAtt[num][3]\n",
    "                +x[5][0]*testAtt[num][4]\n",
    "                +x[6][0]*testAtt[num][5]))))\n",
    "                #+x[7][0]*testAtt[num][6]\n",
    "                #+x[8][0]*testAtt[num][7]\n",
    "                #+x[9][0]*testAtt[num][8]\n",
    "                #+x[10][0]*testAtt[num][9]))))\n",
    "                #+x[11][0]*testAtt[num][10]\n",
    "                #+x[12][0]*testAtt[num][11]\n",
    "                #+x[13][0]*testAtt[num][12]\n",
    "                #+x[14][0]*testAtt[num][13]))))"
   ]
  },
  {
   "cell_type": "code",
   "execution_count": 13,
   "metadata": {
    "collapsed": true
   },
   "outputs": [],
   "source": [
    "#seperate probabilities into the two classes\n",
    "prob1=[]\n",
    "prob0=[]\n",
    "for n in range(0,len(testClass)):\n",
    "    if (testClass[n]==1):\n",
    "        prob1.append(prob[n])\n",
    "    else:\n",
    "        prob0.append(prob[n])"
   ]
  },
  {
   "cell_type": "code",
   "execution_count": 14,
   "metadata": {
    "collapsed": true
   },
   "outputs": [],
   "source": [
    "#Finds intersection of two normal distrubtutions\n",
    "def solve(m1,m2,std1,std2):\n",
    "  a = 1/(2*std1**2) - 1/(2*std2**2)\n",
    "  b = m2/(std2**2) - m1/(std1**2)\n",
    "  c = m1**2 /(2*std1**2) - m2**2 / (2*std2**2) - np.log(std2/std1)\n",
    "  return np.roots([a,b,c])"
   ]
  },
  {
   "cell_type": "code",
   "execution_count": 15,
   "metadata": {},
   "outputs": [
    {
     "name": "stdout",
     "output_type": "stream",
     "text": [
      "0.783350759389\n"
     ]
    }
   ],
   "source": [
    "import numpy as np\n",
    "#FINDS INTERSECTION OF NORMAL DISTRUBTION OF averages\n",
    "intersection=solve(np.mean(prob0),np.mean(prob1),np.std(prob0),np.std(prob1))[0]\n",
    "print(intersection)\n",
    "#CHANGE TO PROBABILITY MAYBE\n"
   ]
  },
  {
   "cell_type": "code",
   "execution_count": 22,
   "metadata": {},
   "outputs": [
    {
     "name": "stdout",
     "output_type": "stream",
     "text": [
      "Accuracy:  73.71048252911814\n"
     ]
    }
   ],
   "source": [
    "#tp=[]\n",
    "#fp=[]\n",
    "#tn=[]\n",
    "#fn=[]\n",
    "#for inter in np.arange(0.4,1,0.01):\n",
    "#for x in np.arange(0.5,1.0001,.001):\n",
    "#intersection=x\n",
    "\n",
    "#Check Accuracy\n",
    "truePositive=0\n",
    "trueNegative=0\n",
    "falsePositive=0\n",
    "falseNegative=0\n",
    "guesses=[]\n",
    "bonus=1\n",
    "penalty=1\n",
    "#intersection=inter\n",
    "#print(intersection)\n",
    "for n in range(0,len(prob)):\n",
    "    p=prob[n]\n",
    "    guess=np.random.choice([1,0],1,[p,1-p])\n",
    "    if (p>=0.73):\n",
    "        guess=0\n",
    "        if (testClass[n]==guess):\n",
    "            trueNegative+=1\n",
    "        else:\n",
    "            falseNegative+=1\n",
    "    else:\n",
    "        p-=p*penalty/intersection\n",
    "        guess=1\n",
    "        if (testClass[n]==guess):\n",
    "            truePositive+=1\n",
    "        else:\n",
    "            falsePositive+=1\n",
    "    guesses.append(guess)\n",
    "#print('Total: ',trueNegative+truePositive+falseNegative+falsePositive)\n",
    "print('Accuracy: ',(100*(trueNegative+truePositive))/(trueNegative+truePositive+falseNegative+falsePositive))\n",
    "#print(intersection)\n",
    "#tp.append(truePositive)\n",
    "#fp.append(falsePositive)\n",
    "#tn.append(trueNegative)\n",
    "#fn.append(falseNegative)\n",
    "#print('Recall: ', truePositive/(truePositive+falseNegative))\n",
    "#print('Precision: ', truePositive/(truePositive+falsePositive))"
   ]
  },
  {
   "cell_type": "markdown",
   "metadata": {},
   "source": [
    "import matplotlib.pyplot as plt\n",
    "fpr=[]\n",
    "tpr=[]\n",
    "for x in range(0,len(fp)):\n",
    "    if (fp[x]+tp[x]==0):\n",
    "        tpr.append(0)\n",
    "    else:\n",
    "        tpr.append(tp[x]/(fp[x]+tp[x]))\n",
    "    if (fn[x]+tn[x]==0):\n",
    "        fpr.append(1)\n",
    "    else:\n",
    "        fpr.append(fp[x]/(fn[x]+tn[x]))\n",
    "        \n",
    "plt.figure()\n",
    "lw = 2\n",
    "plt.plot(fpr, tpr, color='darkorange',\n",
    "         lw=lw,label='Logistic Regression with stratified sampling')\n",
    "plt.plot([0, 1], [0, 1], color='navy', lw=1, linestyle='--',label='Random')\n",
    "plt.xlim([0.0, 1.0])\n",
    "plt.ylim([0.0, 1.05])\n",
    "plt.xlabel('False Positive Rate')\n",
    "plt.ylabel('True Positive Rate')\n",
    "plt.title('ROC curve')\n",
    "plt.legend(loc=\"lower right\")\n",
    "plt.show()"
   ]
  },
  {
   "cell_type": "code",
   "execution_count": 23,
   "metadata": {},
   "outputs": [
    {
     "name": "stdout",
     "output_type": "stream",
     "text": [
      "Confusion Matrix\n",
      "         Guess\n",
      "         1   0\n",
      "Actual 1 436 59\n",
      "       0 99 7\n",
      "recall:  0.8808080808080808\n",
      "precision:  0.8149532710280374\n"
     ]
    }
   ],
   "source": [
    "print('Confusion Matrix')\n",
    "print('         Guess')\n",
    "print('         1   0')\n",
    "print('Actual 1',truePositive,falseNegative)\n",
    "print('       0',falsePositive,trueNegative)\n",
    "print('recall: ',(truePositive/(truePositive+falseNegative)))\n",
    "print('precision: ',truePositive/(truePositive+falsePositive))"
   ]
  },
  {
   "cell_type": "code",
   "execution_count": 24,
   "metadata": {},
   "outputs": [
    {
     "name": "stdout",
     "output_type": "stream",
     "text": [
      "Confusion Matrix :\n",
      "[[  7  99]\n",
      " [ 59 436]]\n",
      "Accuracy Score : 0.737104825291\n",
      "Report : \n",
      "             precision    recall  f1-score   support\n",
      "\n",
      "          0       0.11      0.07      0.08       106\n",
      "          1       0.81      0.88      0.85       495\n",
      "\n",
      "avg / total       0.69      0.74      0.71       601\n",
      "\n"
     ]
    }
   ],
   "source": [
    "from sklearn.metrics import confusion_matrix\n",
    "from sklearn.metrics import accuracy_score\n",
    "from sklearn.metrics import classification_report\n",
    "actual = testClass\n",
    "predicted = guesses\n",
    "results = confusion_matrix(actual, predicted)\n",
    "print ('Confusion Matrix :')\n",
    "print(results)\n",
    "print ('Accuracy Score :',accuracy_score(actual, predicted))\n",
    "print ('Report : ')\n",
    "print (classification_report(actual, predicted))"
   ]
  },
  {
   "cell_type": "code",
   "execution_count": 25,
   "metadata": {},
   "outputs": [
    {
     "data": {
      "image/png": "[encoded data removed]",
      "text/plain": [
       "<matplotlib.figure.Figure at 0x167c44989e8>"
      ]
     },
     "metadata": {},
     "output_type": "display_data"
    }
   ],
   "source": [
    "import scipy.stats as stats\n",
    "import pylab as pl\n",
    "import matplotlib.pyplot as plt\n",
    "newData0=sorted(prob0)\n",
    "newData1=sorted(prob1)\n",
    "fit0 = stats.norm.pdf(newData0, np.mean(newData0), np.std(newData0))\n",
    "fit1=stats.norm.pdf(newData1,np.mean(newData1),np.std(newData1))\n",
    "pl.plot(newData0,fit0,label='Democrat')\n",
    "pl.plot(newData1,fit1,label='Republican')\n",
    "#plt.ylabel('Accuracy')\n",
    "plt.xlabel('p')\n",
    "plt.title('Probability of Republican')\n",
    "plt.legend(bbox_to_anchor=(0.7, 0.8), loc=2, borderaxespad=0.)\n",
    "axes = plt.gca()\n",
    "axes.set_xlim([0,1])\n",
    "pl.show()"
   ]
  },
  {
   "cell_type": "code",
   "execution_count": null,
   "metadata": {
    "collapsed": true
   },
   "outputs": [],
   "source": []
  }
 ],
 "metadata": {
  "kernelspec": {
   "display_name": "Python 3",
   "language": "python",
   "name": "python3"
  },
  "language_info": {
   "codemirror_mode": {
    "name": "ipython",
    "version": 3
   },
   "file_extension": ".py",
   "mimetype": "text/x-python",
   "name": "python",
   "nbconvert_exporter": "python",
   "pygments_lexer": "ipython3",
   "version": "3.6.3"
  }
 },
 "nbformat": 4,
 "nbformat_minor": 2
}
